{
 "cells": [
  {
   "cell_type": "markdown",
   "metadata": {},
   "source": [
    "# Master in Computational Biology:\n",
    "# Advance Python Tutorial 2021"
   ]
  },
  {
   "cell_type": "markdown",
   "metadata": {},
   "source": [
    "Written and adapted by KW, 2021"
   ]
  },
  {
   "cell_type": "markdown",
   "metadata": {},
   "source": [
    "Welcome to advance Python tutorial. You will learn how to use python programming to analyze scattered scientific data. This tutorial starts with an introduction to numerical calculations in Python followed by the training in practical data analysis using several mathematical methods.\n",
    "\n",
    "Lets look at the schedule for the next two weeks..."
   ]
  },
  {
   "cell_type": "markdown",
   "metadata": {},
   "source": [
    "## Contents of Tutorial\n",
    "\n",
    "\n",
    "\n",
    "### PART 1 - Introduction to NumPy, the heart of numerical computing\n",
    "\n",
    "[A.1. Data types and basics of matrices in NumPy](Day1.ipynb)\n",
    "\n",
    "[A.2. Mathematical and logic operations on matrices](Day2.ipynb)\n",
    "\n",
    "[A.3. Basics of data plotting using matplotlib](Day3.ipynb)\n",
    "\n",
    "[A.4. Basic algorithms + What is Machine Learning?](Day4.ipynb)\n",
    "\n",
    "[A.5. First week assignment](Day5.ipynb)\n",
    "    \n",
    "\n",
    "### PART 2 - Machine Learning with Python, how to make sense  of the data\n",
    "\n",
    "\n",
    "[B.1. Linear regression](Day6.ipynb)\n",
    "\n",
    "[B.2. Support Vector Machine (SVN)](Day7.ipynb)\n",
    "\n",
    "[B.3. Data clustering](Day8.ipynb)\n",
    "\n",
    "[B.4. Principal component analysis (PCA)](Day9.ipynb)\n",
    "\n",
    "[B.5. Second week assignment](Day10.ipynb)"
   ]
  }
 ],
 "metadata": {
  "anaconda-cloud": {},
  "kernelspec": {
   "display_name": "Python 3",
   "language": "python",
   "name": "python3"
  },
  "language_info": {
   "codemirror_mode": {
    "name": "ipython",
    "version": 3
   },
   "file_extension": ".py",
   "mimetype": "text/x-python",
   "name": "python",
   "nbconvert_exporter": "python",
   "pygments_lexer": "ipython3",
   "version": "3.6.8"
  }
 },
 "nbformat": 4,
 "nbformat_minor": 1
}
